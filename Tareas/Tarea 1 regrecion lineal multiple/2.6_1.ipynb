{
 "cells": [
  {
   "cell_type": "markdown",
   "id": "402940df",
   "metadata": {},
   "source": [
    "a) Ajustar un modelo de regresión lineal múltiple que relacione la cantidad de juegos ganados con las yardas por aire del equipo (x2 ), el porcentaje de jugadas por tierra (x7) y las yardas por tierra del contrario (x8\n",
    ")."
   ]
  },
  {
   "cell_type": "code",
   "execution_count": 60,
   "id": "083491ee",
   "metadata": {},
   "outputs": [],
   "source": [
    "import pandas as pd\n",
    "import statsmodels.formula.api as smf\n",
    "import numpy as np\n",
    "import matplotlib.pyplot as plt\n",
    "from statsmodels.graphics.gofplots import qqplot\n",
    "from scipy import stats\n"
   ]
  },
  {
   "cell_type": "code",
   "execution_count": 61,
   "id": "9672121c",
   "metadata": {},
   "outputs": [
    {
     "name": "stdout",
     "output_type": "stream",
     "text": [
      "                            OLS Regression Results                            \n",
      "==============================================================================\n",
      "Dep. Variable:                      y   R-squared:                       0.786\n",
      "Model:                            OLS   Adj. R-squared:                  0.760\n",
      "Method:                 Least Squares   F-statistic:                     29.44\n",
      "Date:                Wed, 03 Sep 2025   Prob (F-statistic):           3.27e-08\n",
      "Time:                        21:26:50   Log-Likelihood:                -52.532\n",
      "No. Observations:                  28   AIC:                             113.1\n",
      "Df Residuals:                      24   BIC:                             118.4\n",
      "Df Model:                           3                                         \n",
      "Covariance Type:            nonrobust                                         \n",
      "==============================================================================\n",
      "                 coef    std err          t      P>|t|      [0.025      0.975]\n",
      "------------------------------------------------------------------------------\n",
      "Intercept     -1.8084      7.901     -0.229      0.821     -18.115      14.498\n",
      "x2             0.0036      0.001      5.177      0.000       0.002       0.005\n",
      "x7             0.1940      0.088      2.198      0.038       0.012       0.376\n",
      "x8            -0.0048      0.001     -3.771      0.001      -0.007      -0.002\n",
      "==============================================================================\n",
      "Omnibus:                        0.665   Durbin-Watson:                   1.492\n",
      "Prob(Omnibus):                  0.717   Jarque-Bera (JB):                0.578\n",
      "Skew:                           0.321   Prob(JB):                        0.749\n",
      "Kurtosis:                       2.712   Cond. No.                     7.42e+04\n",
      "==============================================================================\n",
      "\n",
      "Notes:\n",
      "[1] Standard Errors assume that the covariance matrix of the errors is correctly specified.\n",
      "[2] The condition number is large, 7.42e+04. This might indicate that there are\n",
      "strong multicollinearity or other numerical problems.\n"
     ]
    }
   ],
   "source": [
    "datos = pd.read_csv(\"Liga_nacional_de_futbol.csv\")\n",
    "\n",
    "M1 = smf.ols(formula=\"y ~ x2 + x7 + x8\", data=datos).fit()\n",
    "\n",
    "print(M1.summary())"
   ]
  },
  {
   "cell_type": "markdown",
   "id": "ad691d3e",
   "metadata": {},
   "source": [
    "b)Formar la tabla de análisis de varianza y probar la significancia de la regresión."
   ]
  },
  {
   "cell_type": "code",
   "execution_count": 62,
   "id": "14883e24",
   "metadata": {},
   "outputs": [
    {
     "name": "stdout",
     "output_type": "stream",
     "text": [
      "beta: [-1.80837206  0.00359807  0.19396021 -0.00481549]\n",
      "\n",
      "ANOVA (M1):\n",
      "  Fuente de variación  Suma de cuadrados  GL         CM        F0\n",
      "0           Regresión         257.094282   3  85.698094  29.43687\n",
      "1          Residuales          69.870004  24   2.911250       NaN\n",
      "2               Total         326.964286  27        NaN       NaN\n",
      "\n",
      "F (statsmodels): 29.436870318644605  | p-valor: 3.273458286948758e-08\n",
      "R^2: 0.7863069233109538  | R^2 ajustado: 0.759595288724823\n"
     ]
    }
   ],
   "source": [
    "n = len(datos)\n",
    "X = np.column_stack([\n",
    "    np.ones(n),    \n",
    "    datos[\"x2\"].to_numpy(),\n",
    "    datos[\"x7\"].to_numpy(),\n",
    "    datos[\"x8\"].to_numpy()\n",
    "                    ])                              \n",
    "y = datos[\"y\"].to_numpy()       \n",
    "\n",
    "XtX  = X.T @ X                  \n",
    "XtY  = X.T @ y\n",
    "beta = np.linalg.solve(XtX, XtY)  \n",
    "print(\"beta:\", beta)              \n",
    "\n",
    "p   = beta.shape[0] - 1          \n",
    "GLT = n - 1\n",
    "GLRes = int(M1.df_resid)         \n",
    "GLR  = GLT - GLRes               \n",
    "\n",
    "SCT = float(y @ y - (y.sum()**2) / n)           \n",
    "SCE = float(beta.T @ XtY - (y.sum()**2) / n)    \n",
    "SSE = SCT - SCE                                  \n",
    "\n",
    "SCT_m = float(((y - y.mean())**2).sum())\n",
    "SCE_m = float(((M1.fittedvalues - y.mean())**2).sum())\n",
    "SSE_m = float((M1.resid**2).sum())\n",
    "\n",
    "CMR   = SCE / GLR\n",
    "CMRes = SSE / GLRes\n",
    "F0    = CMR / CMRes\n",
    "\n",
    "anova_tbl = pd.DataFrame({\n",
    "    \"Fuente de variación\": [\"Regresión\", \"Residuales\", \"Total\"],\n",
    "    \"Suma de cuadrados\":   [SCE, SSE, SCT],\n",
    "    \"GL\":                  [GLR, GLRes, GLT],\n",
    "    \"CM\":                  [CMR, CMRes, np.nan],\n",
    "    \"F0\":                  [F0,  np.nan, np.nan],\n",
    "})\n",
    "print(\"\\nANOVA (M1):\")\n",
    "print(anova_tbl)\n",
    "\n",
    "print(\"\\nF (statsmodels):\", float(M1.fvalue), \" | p-valor:\", float(M1.f_pvalue))\n",
    "print(\"R^2:\", M1.rsquared, \" | R^2 ajustado:\", M1.rsquared_adj)\n"
   ]
  },
  {
   "cell_type": "markdown",
   "id": "51f70cf3",
   "metadata": {},
   "source": [
    "c) Calcular el estadístico t para probar las hipótesis H0:β2=0, H0:β7=0 y H0:β8=0. \n",
    "¿Qué conclusiones se pueden sacar acerca del papel de las variables x2, x7 y x8 en el modelo?"
   ]
  },
  {
   "cell_type": "code",
   "execution_count": 63,
   "id": "72925464",
   "metadata": {},
   "outputs": [
    {
     "name": "stdout",
     "output_type": "stream",
     "text": [
      "[-0.22888296  5.17709024  2.19826168 -3.77103645]\n"
     ]
    }
   ],
   "source": [
    "df_res = n - p - 1\n",
    "varest = SSE / df_res\n",
    "XtX_inv = np.linalg.inv(X.T @ X)\n",
    "t0_vals = beta.ravel() / np.sqrt(varest * np.diag(XtX_inv))\n",
    "\n",
    "print(t0_vals)"
   ]
  },
  {
   "cell_type": "code",
   "execution_count": 64,
   "id": "2ebab9a2",
   "metadata": {},
   "outputs": [
    {
     "name": "stdout",
     "output_type": "stream",
     "text": [
      "beta: [-1.80837206  0.00359807  0.19396021 -0.00481549]\n",
      "\n",
      "ANOVA (M1):\n",
      "  Fuente de variación  Suma de cuadrados  GL         CM        F0\n",
      "0           Regresión         257.094282   3  85.698094  29.43687\n",
      "1          Residuales          69.870004  24   2.911250       NaN\n",
      "2               Total         326.964286  27        NaN       NaN\n",
      "\n",
      "F (statsmodels): 29.436870318644605  | p-valor: 3.273458286948758e-08\n",
      "R^2: 0.7863069233109538  | R^2 ajustado: 0.759595288724823\n"
     ]
    }
   ],
   "source": [
    "n = len(datos)\n",
    "X = np.column_stack([\n",
    "    np.ones(n),    \n",
    "    datos[\"x2\"].to_numpy(),\n",
    "    datos[\"x7\"].to_numpy(),\n",
    "    datos[\"x8\"].to_numpy()\n",
    "                    ])                              \n",
    "y = datos[\"y\"].to_numpy()       \n",
    "\n",
    "XtX  = X.T @ X                  \n",
    "XtY  = X.T @ y\n",
    "beta = np.linalg.solve(XtX, XtY)  \n",
    "print(\"beta:\", beta)              \n",
    "\n",
    "p   = beta.shape[0] - 1          \n",
    "GLT = n - 1\n",
    "GLRes = int(M1.df_resid)         \n",
    "GLR  = GLT - GLRes               \n",
    "\n",
    "SCT = float(y @ y - (y.sum()**2) / n)           \n",
    "SCE = float(beta.T @ XtY - (y.sum()**2) / n)    \n",
    "SSE = SCT - SCE                                  \n",
    "\n",
    "SCT_m = float(((y - y.mean())**2).sum())\n",
    "SCE_m = float(((M1.fittedvalues - y.mean())**2).sum())\n",
    "SSE_m = float((M1.resid**2).sum())\n",
    "\n",
    "CMR   = SCE / GLR\n",
    "CMRes = SSE / GLRes\n",
    "F0    = CMR / CMRes\n",
    "\n",
    "anova_tbl = pd.DataFrame({\n",
    "    \"Fuente de variación\": [\"Regresión\", \"Residuales\", \"Total\"],\n",
    "    \"Suma de cuadrados\":   [SCE, SSE, SCT],\n",
    "    \"GL\":                  [GLR, GLRes, GLT],\n",
    "    \"CM\":                  [CMR, CMRes, np.nan],\n",
    "    \"F0\":                  [F0,  np.nan, np.nan],\n",
    "})\n",
    "print(\"\\nANOVA (M1):\")\n",
    "print(anova_tbl)\n",
    "\n",
    "print(\"\\nF (statsmodels):\", float(M1.fvalue), \" | p-valor:\", float(M1.f_pvalue))\n",
    "print(\"R^2:\", M1.rsquared, \" | R^2 ajustado:\", M1.rsquared_adj)\n"
   ]
  },
  {
   "cell_type": "markdown",
   "id": "de9eef86",
   "metadata": {},
   "source": [
    " aqui podemos ver que las variables x2, x7 y x8 son significativas ya que son mayores al t crit"
   ]
  },
  {
   "cell_type": "markdown",
   "id": "59fd70eb",
   "metadata": {},
   "source": [
    "d)  Calcular R2 y R2adj para este modelo."
   ]
  },
  {
   "cell_type": "code",
   "execution_count": 65,
   "id": "0797cb8f",
   "metadata": {},
   "outputs": [
    {
     "name": "stdout",
     "output_type": "stream",
     "text": [
      "R2: 0.7863069233109494\n",
      "R2 ajustado: 0.7595952887248181\n"
     ]
    }
   ],
   "source": [
    "# R^2\n",
    "R2 = float(np.asarray(SCE)) / float(np.asarray(SCT))\n",
    "print(\"R2:\", R2)\n",
    "\n",
    "# R^2 ajustado\n",
    "R2ADJ = 1 - (1 - R2) * ((n - 1) / (n - p - 1))\n",
    "print(\"R2 ajustado:\", R2ADJ)"
   ]
  },
  {
   "cell_type": "markdown",
   "id": "2b32d8f5",
   "metadata": {},
   "source": [
    " e)  Trazar una gráfica de probabilidad normal de los residuales. \n",
    "¿Parece haber algún problema con la hipótesis de normalidad?"
   ]
  },
  {
   "cell_type": "code",
   "execution_count": 66,
   "id": "3a59a798",
   "metadata": {},
   "outputs": [
    {
     "data": {
      "image/png": "[encoded data removed]",
      "text/plain": [
       "<Figure size 640x480 with 1 Axes>"
      ]
     },
     "metadata": {},
     "output_type": "display_data"
    }
   ],
   "source": [
    "residuales = M1.resid\n",
    "\n",
    "fig = qqplot(residuales, line=\"q\")\n",
    "plt.title(\"QQ-plot de residuales\")\n",
    "plt.tight_layout()\n",
    "plt.show()"
   ]
  },
  {
   "cell_type": "markdown",
   "id": "a7c1ded3",
   "metadata": {},
   "source": [
    "podemos ver que los valores se acercan a la recta por lo que aprece que puede haber normalidad"
   ]
  },
  {
   "cell_type": "markdown",
   "id": "a6e71a5d",
   "metadata": {},
   "source": [
    "f)  Trazar e interpretar una gráfica de los residuales en función de la respuesta predicha."
   ]
  },
  {
   "cell_type": "code",
   "execution_count": 67,
   "id": "61f83cd9",
   "metadata": {},
   "outputs": [
    {
     "data": {
      "image/png": "[encoded data removed]",
      "text/plain": [
       "<Figure size 640x480 with 1 Axes>"
      ]
     },
     "metadata": {},
     "output_type": "display_data"
    }
   ],
   "source": [
    "ajustados = M1.fittedvalues\n",
    "\n",
    "plt.figure()\n",
    "plt.scatter(ajustados, residuales)\n",
    "plt.xlabel(\"Valores ajustados\")\n",
    "plt.ylabel(\"Residuales\")\n",
    "plt.title(\"Residuales vs Valores Ajustados\")\n",
    "plt.axhline(0, color=\"red\", linestyle=\"--\")  \n",
    "plt.tight_layout()\n",
    "plt.savefig(\"residuales_vs_ajustados.png\", dpi=150)  \n",
    "plt.show()"
   ]
  },
  {
   "cell_type": "markdown",
   "id": "3015c396",
   "metadata": {},
   "source": [
    "g)  Trazar las gráficas de los residuales en función de cada una de las variables regresoras. \n",
    "¿Implican esas gráficas que se especificó en forma correcta el regresor?"
   ]
  },
  {
   "cell_type": "code",
   "execution_count": 68,
   "id": "305ff65c",
   "metadata": {},
   "outputs": [
    {
     "data": {
      "image/png": "[encoded data removed]",
      "text/plain": [
       "<Figure size 640x480 with 1 Axes>"
      ]
     },
     "metadata": {},
     "output_type": "display_data"
    },
    {
     "data": {
      "image/png": "[encoded data removed]",
      "text/plain": [
       "<Figure size 640x480 with 1 Axes>"
      ]
     },
     "metadata": {},
     "output_type": "display_data"
    },
    {
     "data": {
      "image/png": "[encoded data removed]",
      "text/plain": [
       "<Figure size 640x480 with 1 Axes>"
      ]
     },
     "metadata": {},
     "output_type": "display_data"
    }
   ],
   "source": [
    "for col in [\"x2\", \"x7\", \"x8\"]:\n",
    "    plt.figure()\n",
    "    plt.scatter(datos[col], residuales)\n",
    "    plt.xlabel(col)\n",
    "    plt.ylabel(\"Residuales\")\n",
    "    plt.title(f\"Residuales vs {col}\")\n",
    "    plt.axhline(0, color=\"red\", linestyle=\"--\")\n",
    "    plt.tight_layout()\n",
    "    plt.show()"
   ]
  },
  {
   "cell_type": "markdown",
   "id": "55e0f88a",
   "metadata": {},
   "source": [
    "todas las graficas son bastante aleatorias asi pues parece que las variables estan bien especificadas en el modelo"
   ]
  },
  {
   "cell_type": "markdown",
   "id": "932bc63d",
   "metadata": {},
   "source": [
    "h)  Calcular un intervalo de confianza de 95% para β7"
   ]
  },
  {
   "cell_type": "code",
   "execution_count": 69,
   "id": "50ba308e",
   "metadata": {},
   "outputs": [
    {
     "name": "stdout",
     "output_type": "stream",
     "text": [
      "tcrit: 2.0638985616280205\n",
      "beta7_hat: 0.19396020958323593\n",
      "IC_beta7: {'LI': np.float64(0.011855321567678628), 'LS': np.float64(0.37606509759879325)}\n"
     ]
    }
   ],
   "source": [
    "\n",
    "df = n - p - 1              \n",
    "tcrit = stats.t.ppf(0.975, df)\n",
    "print(\"tcrit:\", tcrit)\n",
    "\n",
    "j = 2  # índice de x7 en base 0\n",
    "\n",
    "beta7_hat = float(beta.ravel()[j])         \n",
    "cjj = XtX_inv[j, j]                        \n",
    "se_beta7 = np.sqrt(varest * cjj)           \n",
    "\n",
    "LI = beta7_hat - tcrit * se_beta7\n",
    "LS = beta7_hat + tcrit * se_beta7\n",
    "IC_beta7 = {\"LI\": LI, \"LS\": LS}\n",
    "\n",
    "print(\"beta7_hat:\", beta7_hat)\n",
    "print(\"IC_beta7:\", IC_beta7)"
   ]
  },
  {
   "cell_type": "markdown",
   "id": "5ddd6116",
   "metadata": {},
   "source": [
    " h)  un intervalo de confianza de 95% para la cantidad media de juegos ganados por un equipo cuando x2=2300, x7=56 y x8=2100."
   ]
  },
  {
   "cell_type": "code",
   "execution_count": 70,
   "id": "d961e8f2",
   "metadata": {},
   "outputs": [
    {
     "name": "stdout",
     "output_type": "stream",
     "text": [
      "y0_hat: 7.216423832995938\n",
      "se_y0: 0.37803265666473906\n",
      "IC_media: {'LI': np.float64(6.436202776657163), 'LS': np.float64(7.996644889334712)}\n"
     ]
    }
   ],
   "source": [
    "XtX_inv = np.linalg.inv(XtX)      \n",
    "varest  = SSE / GLRes             \n",
    "\n",
    "x0 = np.array([1.0, 2300.0, 56.0, 2100.0])   \n",
    "\n",
    "y0_hat = float(x0 @ beta)\n",
    "\n",
    "se_y0 = float(np.sqrt(varest * (x0 @ XtX_inv @ x0)))\n",
    "\n",
    "df = n - p - 1\n",
    "tcrit = stats.t.ppf(0.975, df)\n",
    "\n",
    "IC_media = {\"LI\": y0_hat - tcrit * se_y0,\n",
    "            \"LS\": y0_hat + tcrit * se_y0}\n",
    "\n",
    "print(\"y0_hat:\", y0_hat)\n",
    "print(\"se_y0:\", se_y0)\n",
    "print(\"IC_media:\", IC_media)\n"
   ]
  },
  {
   "cell_type": "markdown",
   "id": "eb8f1b0e",
   "metadata": {},
   "source": [
    "i)  Ajustar un modelo a esos datos, usando solo x7 y x8 como regresores y probar la significancia de la regresión."
   ]
  },
  {
   "cell_type": "code",
   "execution_count": 71,
   "id": "8dfcbaad",
   "metadata": {},
   "outputs": [
    {
     "name": "stdout",
     "output_type": "stream",
     "text": [
      "                            OLS Regression Results                            \n",
      "==============================================================================\n",
      "Dep. Variable:                      y   R-squared:                       0.548\n",
      "Model:                            OLS   Adj. R-squared:                  0.511\n",
      "Method:                 Least Squares   F-statistic:                     15.13\n",
      "Date:                Wed, 03 Sep 2025   Prob (F-statistic):           4.93e-05\n",
      "Time:                        21:26:50   Log-Likelihood:                -63.031\n",
      "No. Observations:                  28   AIC:                             132.1\n",
      "Df Residuals:                      25   BIC:                             136.1\n",
      "Df Model:                           2                                         \n",
      "Covariance Type:            nonrobust                                         \n",
      "==============================================================================\n",
      "                 coef    std err          t      P>|t|      [0.025      0.975]\n",
      "------------------------------------------------------------------------------\n",
      "Intercept     17.9443      9.862      1.819      0.081      -2.368      38.256\n",
      "x7             0.0484      0.119      0.406      0.688      -0.197       0.294\n",
      "x8            -0.0065      0.002     -3.719      0.001      -0.010      -0.003\n",
      "==============================================================================\n",
      "Omnibus:                        1.830   Durbin-Watson:                   1.618\n",
      "Prob(Omnibus):                  0.401   Jarque-Bera (JB):                1.281\n",
      "Skew:                           0.277   Prob(JB):                        0.527\n",
      "Kurtosis:                       2.111   Cond. No.                     4.59e+04\n",
      "==============================================================================\n",
      "\n",
      "Notes:\n",
      "[1] Standard Errors assume that the covariance matrix of the errors is correctly specified.\n",
      "[2] The condition number is large, 4.59e+04. This might indicate that there are\n",
      "strong multicollinearity or other numerical problems.\n",
      "\n",
      "ANOVA (M2):\n",
      "  Fuente de variación  Suma de cuadrados  GL         CM         F0\n",
      "0           Regresión         179.066188   2  89.533094  15.134254\n",
      "1          Residuales         147.898098  25   5.915924        NaN\n",
      "2               Total         326.964286  27        NaN        NaN\n",
      "\n",
      "F (statsmodels): 15.134253757463904  | p-valor: 4.934900454889265e-05\n"
     ]
    }
   ],
   "source": [
    "M2 = smf.ols(\"y ~ x7 + x8\", data=datos).fit()\n",
    "print(M2.summary())\n",
    "\n",
    "n = len(datos)\n",
    "X2 = np.column_stack([\n",
    "    np.ones(n),                       \n",
    "    datos[\"x7\"].to_numpy(),\n",
    "    datos[\"x8\"].to_numpy()\n",
    "                    ])                                   \n",
    "y = datos[\"y\"].to_numpy()            \n",
    "\n",
    "XtX2  = X2.T @ X2                    \n",
    "XtY2  = X2.T @ y                     \n",
    "beta2 = np.linalg.solve(XtX2, XtY2)  \n",
    "\n",
    "SCT2 = float(y @ y - (y.sum()**2)/n)\n",
    "SCE2 = float(beta2.T @ XtY2 - (y.sum()**2)/n)        \n",
    "SSE2 = SCT2 - SCE2                                   \n",
    "\n",
    "p2     = beta2.shape[0] - 1      \n",
    "GLR2   = int(p2)\n",
    "GLRes2 = int(n - p2 - 1)\n",
    "GLT    = int(n - 1)\n",
    "\n",
    "CMR2   = SCE2 / GLR2\n",
    "CMRES2 = SSE2 / GLRes2\n",
    "F0_2   = CMR2 / CMRES2\n",
    "\n",
    "anova_tbl2 = pd.DataFrame({\n",
    "    \"Fuente de variación\": [\"Regresión\", \"Residuales\", \"Total\"],\n",
    "    \"Suma de cuadrados\":   [SCE2, SSE2, SCT2],\n",
    "    \"GL\":                  [GLR2, GLRes2, GLT],\n",
    "    \"CM\":                  [CMR2, CMRES2, np.nan],\n",
    "    \"F0\":                  [F0_2, np.nan, np.nan],\n",
    "})\n",
    "print(\"\\nANOVA (M2):\")\n",
    "print(anova_tbl2)\n",
    "\n",
    "print(\"\\nF (statsmodels):\", float(M2.fvalue), \" | p-valor:\", float(M2.f_pvalue))\n"
   ]
  },
  {
   "cell_type": "markdown",
   "id": "6182d39d",
   "metadata": {},
   "source": [
    "j)  Calcular R2 y R2 adj. Compararlos con los resultados del modelo anterior"
   ]
  },
  {
   "cell_type": "code",
   "execution_count": 72,
   "id": "0622d8e0",
   "metadata": {},
   "outputs": [
    {
     "name": "stdout",
     "output_type": "stream",
     "text": [
      "R2_M2: 0.5476628350557932\n",
      "R2adj_M2: 0.5114758618602566\n",
      "R2 (M1): 0.7863069233109494\n",
      "R2ADJ (M1): 0.7595952887248181\n"
     ]
    }
   ],
   "source": [
    "\n",
    "R2_M2 = SCE2 / SCT2\n",
    "R2adj_M2 = 1 - (1 - R2_M2) * ((n - 1) / (n - p2 - 1))\n",
    "\n",
    "print(\"R2_M2:\", R2_M2)\n",
    "print(\"R2adj_M2:\", R2adj_M2)\n",
    "\n",
    "R2 = SCE / SCT\n",
    "R2ADJ = 1 - (1 - R2) * ((n - 1) / (n - p - 1))\n",
    "print(\"R2 (M1):\", R2)\n",
    "print(\"R2ADJ (M1):\", R2ADJ)\n"
   ]
  },
  {
   "cell_type": "markdown",
   "id": "2af2624f",
   "metadata": {},
   "source": [
    "k)  También, un intervalo de confianza de 95% para la cantidad media de juegos ganados por un equipo cuando x7 =  56 y x8=2100. Comparar las longitudes de esos intervalos de confianza con las longitudes de los correspondientes al modelo anterior."
   ]
  },
  {
   "cell_type": "code",
   "execution_count": 73,
   "id": "9e002827",
   "metadata": {},
   "outputs": [
    {
     "name": "stdout",
     "output_type": "stream",
     "text": [
      "beta7_hat_M2: 0.04837086856606268\n",
      "IC_beta7_M2: {'LI': np.float64(-0.19716428505820835), 'LS': np.float64(0.2939060221903337)}\n"
     ]
    }
   ],
   "source": [
    "\n",
    "XtX_inv2 = np.linalg.inv(XtX2)\n",
    "\n",
    "resid2 = y - (X2 @ beta2)            \n",
    "\n",
    "df2 = n - p2 - 1\n",
    "varest2 = SSE2 / df2\n",
    "\n",
    "beta7_hat_M2 = beta2[1]\n",
    "\n",
    "\n",
    "cjj2 = XtX_inv2[1, 1]               \n",
    "se_beta7_M2 = np.sqrt(varest2 * cjj2)\n",
    "\n",
    "tcrit2 = stats.t.ppf(0.975, df2)\n",
    "\n",
    "IC_beta7_M2 = {\n",
    "    \"LI\": beta7_hat_M2 - tcrit2 * se_beta7_M2,\n",
    "    \"LS\": beta7_hat_M2 + tcrit2 * se_beta7_M2,\n",
    "}\n",
    "\n",
    "print(\"beta7_hat_M2:\", beta7_hat_M2)\n",
    "print(\"IC_beta7_M2:\", IC_beta7_M2)\n"
   ]
  },
  {
   "cell_type": "markdown",
   "id": "658560a1",
   "metadata": {},
   "source": [
    "l)  ¿Qué conclusiones se pueden sacar de este problema, acerca de las consecuencias de omitir un regresor importante de un modelo?"
   ]
  },
  {
   "cell_type": "markdown",
   "id": "32ef4479",
   "metadata": {},
   "source": [
    "el modelo completo da una estimacion mayor al reducido como vimos desde el inicio sabiamos que era una variable significante y haberla quitado claramente a reducido su desempeño"
   ]
  }
 ],
 "metadata": {
  "kernelspec": {
   "display_name": "Python 3",
   "language": "python",
   "name": "python3"
  },
  "language_info": {
   "codemirror_mode": {
    "name": "ipython",
    "version": 3
   },
   "file_extension": ".py",
   "mimetype": "text/x-python",
   "name": "python",
   "nbconvert_exporter": "python",
   "pygments_lexer": "ipython3",
   "version": "3.11.9"
  }
 },
 "nbformat": 4,
 "nbformat_minor": 5
}
